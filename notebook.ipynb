{
 "metadata": {
  "language_info": {
   "codemirror_mode": {
    "name": "ipython",
    "version": 3
   },
   "file_extension": ".py",
   "mimetype": "text/x-python",
   "name": "python",
   "nbconvert_exporter": "python",
   "pygments_lexer": "ipython3",
   "version": "3.8.5-final"
  },
  "orig_nbformat": 2,
  "kernelspec": {
   "name": "python38564bitvenv589b097c87d64daa95c6a169eec94ae4",
   "display_name": "Python 3.8.5 64-bit ('.venv')"
  }
 },
 "nbformat": 4,
 "nbformat_minor": 2,
 "cells": [
  {
   "cell_type": "code",
   "execution_count": null,
   "metadata": {},
   "outputs": [],
   "source": [
    "import matplotlib.pyplot as plt\n",
    "import numpy as np\n",
    "import pandas as pd\n",
    "import seaborn as sns\n",
    "from sklearn.linear_model import LinearRegression\n",
    "\n",
    "sns.set_style(\"darkgrid\")\n",
    "\n",
    "dataframes = {i: pd.read_csv(f\"data/dataset_{i}.csv\") for i in range(4)}\n",
    "\n",
    "models = {}\n",
    "for i in range(4):\n",
    "    models[i] = LinearRegression()\n",
    "    x = dataframes[i][\"x\"].to_numpy().reshape(-1, 1)\n",
    "    y = dataframes[i][\"y\"]\n",
    "    models[i].fit(x, y)"
   ]
  },
  {
   "cell_type": "code",
   "execution_count": null,
   "metadata": {},
   "outputs": [],
   "source": [
    "fig, ax = plt.subplots(2, 2, figsize=(12, 8), sharex=True, sharey=True)\n",
    "fig.subplots_adjust(hspace=0.5)\n",
    "fig.suptitle(\"DataFrames\")\n",
    "dataframes[0].plot.scatter(x=\"x\", y=\"y\", ax=ax[0, 0], title=\"DataFrame 0\")\n",
    "x = np.linspace(20, 100, 100)\n",
    "y = 53.43 - 0.1 * x\n",
    "ax[0, 0].plot(x, models[0].intercept_ + models[0].coef_ * x, c=\"r\", label=\"Linear Regression line\")\n",
    "ax[0, 1].plot(x, models[1].intercept_ + models[1].coef_ * x, c=\"r\", label=\"Linear regression line\")\n",
    "ax[1, 0].plot(x, models[2].intercept_ + models[2].coef_ * x, c=\"r\", label=\"Linear regression line\")\n",
    "ax[1, 1].plot(x, models[3].intercept_ + models[3].coef_ * x, c=\"r\", label=\"Linear regression line\")\n",
    "ax[0, 0].scatter(x=dataframes[0][\"x\"], y=dataframes[0][\"y\"], label=\"Data points\")\n",
    "ax[0, 0].set_title(\"DataFrame 0\")\n",
    "ax[0, 1].scatter(x=dataframes[1][\"x\"], y=dataframes[1][\"y\"], label=\"Data points\")\n",
    "ax[0, 1].set_title(\"DataFrame 1\")\n",
    "ax[1, 0].scatter(x=dataframes[2][\"x\"], y=dataframes[2][\"y\"], label=\"Data points\")\n",
    "ax[1, 0].set_title(\"DataFrame 2\")\n",
    "ax[1, 1].scatter(x=dataframes[3][\"x\"], y=dataframes[3][\"y\"], label=\"Data points\")\n",
    "ax[1, 1].set_title(\"DataFrame 3\")\n",
    "handles, labels = ax[1, 1].get_legend_handles_labels()\n",
    "fig.legend(handles, labels, loc=\"upper right\");"
   ]
  },
  {
   "cell_type": "code",
   "execution_count": null,
   "metadata": {},
   "outputs": [],
   "source": []
  }
 ]
}